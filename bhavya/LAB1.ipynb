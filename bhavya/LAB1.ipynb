{
 "cells": [
  {
   "cell_type": "code",
   "execution_count": 2,
   "metadata": {},
   "outputs": [],
   "source": [
    "from PIL import Image"
   ]
  },
  {
   "cell_type": "code",
   "execution_count": 2,
   "metadata": {},
   "outputs": [],
   "source": [
    "image=logo=Image.open(\"Image/image.png\")"
   ]
  },
  {
   "cell_type": "code",
   "execution_count": 3,
   "metadata": {},
   "outputs": [
    {
     "data": {
      "text/plain": [
       "['_Image__transformer',\n",
       " '_PngImageFile__frame',\n",
       " '_PngImageFile__prepare_idat',\n",
       " '__array_interface__',\n",
       " '__class__',\n",
       " '__copy__',\n",
       " '__delattr__',\n",
       " '__dict__',\n",
       " '__dir__',\n",
       " '__doc__',\n",
       " '__enter__',\n",
       " '__eq__',\n",
       " '__exit__',\n",
       " '__format__',\n",
       " '__ge__',\n",
       " '__getattr__',\n",
       " '__getattribute__',\n",
       " '__getstate__',\n",
       " '__gt__',\n",
       " '__hash__',\n",
       " '__init__',\n",
       " '__init_subclass__',\n",
       " '__le__',\n",
       " '__lt__',\n",
       " '__module__',\n",
       " '__ne__',\n",
       " '__new__',\n",
       " '__reduce__',\n",
       " '__reduce_ex__',\n",
       " '__repr__',\n",
       " '__setattr__',\n",
       " '__setstate__',\n",
       " '__sizeof__',\n",
       " '__str__',\n",
       " '__subclasshook__',\n",
       " '__weakref__',\n",
       " '_category',\n",
       " '_close_exclusive_fp_after_loading',\n",
       " '_copy',\n",
       " '_crop',\n",
       " '_dump',\n",
       " '_ensure_mutable',\n",
       " '_exclusive_fp',\n",
       " '_exif',\n",
       " '_expand',\n",
       " '_fp',\n",
       " '_get_safe_box',\n",
       " '_getexif',\n",
       " '_getxmp',\n",
       " '_min_frame',\n",
       " '_new',\n",
       " '_open',\n",
       " '_reload_exif',\n",
       " '_repr_png_',\n",
       " '_repr_pretty_',\n",
       " '_seek',\n",
       " '_seek_check',\n",
       " '_size',\n",
       " '_text',\n",
       " 'alpha_composite',\n",
       " 'apply_transparency',\n",
       " 'close',\n",
       " 'convert',\n",
       " 'copy',\n",
       " 'crop',\n",
       " 'custom_mimetype',\n",
       " 'decoderconfig',\n",
       " 'decodermaxblock',\n",
       " 'default_image',\n",
       " 'draft',\n",
       " 'effect_spread',\n",
       " 'entropy',\n",
       " 'filename',\n",
       " 'filter',\n",
       " 'format',\n",
       " 'format_description',\n",
       " 'fp',\n",
       " 'frombytes',\n",
       " 'get_child_images',\n",
       " 'get_format_mimetype',\n",
       " 'getbands',\n",
       " 'getbbox',\n",
       " 'getchannel',\n",
       " 'getcolors',\n",
       " 'getdata',\n",
       " 'getexif',\n",
       " 'getextrema',\n",
       " 'getim',\n",
       " 'getpalette',\n",
       " 'getpixel',\n",
       " 'getprojection',\n",
       " 'getxmp',\n",
       " 'height',\n",
       " 'histogram',\n",
       " 'im',\n",
       " 'info',\n",
       " 'is_animated',\n",
       " 'load',\n",
       " 'load_end',\n",
       " 'load_prepare',\n",
       " 'load_read',\n",
       " 'mode',\n",
       " 'n_frames',\n",
       " 'palette',\n",
       " 'paste',\n",
       " 'png',\n",
       " 'point',\n",
       " 'private_chunks',\n",
       " 'putalpha',\n",
       " 'putdata',\n",
       " 'putpalette',\n",
       " 'putpixel',\n",
       " 'pyaccess',\n",
       " 'quantize',\n",
       " 'readonly',\n",
       " 'reduce',\n",
       " 'remap_palette',\n",
       " 'resize',\n",
       " 'rotate',\n",
       " 'save',\n",
       " 'seek',\n",
       " 'show',\n",
       " 'size',\n",
       " 'split',\n",
       " 'tell',\n",
       " 'text',\n",
       " 'thumbnail',\n",
       " 'tile',\n",
       " 'tobitmap',\n",
       " 'tobytes',\n",
       " 'toqimage',\n",
       " 'toqpixmap',\n",
       " 'transform',\n",
       " 'transpose',\n",
       " 'verify',\n",
       " 'width']"
      ]
     },
     "execution_count": 3,
     "metadata": {},
     "output_type": "execute_result"
    }
   ],
   "source": [
    "dir(image)"
   ]
  },
  {
   "cell_type": "code",
   "execution_count": 4,
   "metadata": {},
   "outputs": [],
   "source": [
    "width,height=image.size"
   ]
  },
  {
   "cell_type": "code",
   "execution_count": 5,
   "metadata": {},
   "outputs": [
    {
     "data": {
      "text/plain": [
       "'image.png'"
      ]
     },
     "execution_count": 5,
     "metadata": {},
     "output_type": "execute_result"
    }
   ],
   "source": [
    "image.filename"
   ]
  },
  {
   "cell_type": "code",
   "execution_count": 6,
   "metadata": {},
   "outputs": [
    {
     "data": {
      "text/plain": [
       "'PNG'"
      ]
     },
     "execution_count": 6,
     "metadata": {},
     "output_type": "execute_result"
    }
   ],
   "source": [
    "image.format"
   ]
  },
  {
   "cell_type": "code",
   "execution_count": 7,
   "metadata": {},
   "outputs": [
    {
     "data": {
      "text/plain": [
       "'Portable network graphics'"
      ]
     },
     "execution_count": 7,
     "metadata": {},
     "output_type": "execute_result"
    }
   ],
   "source": [
    "image.format_description"
   ]
  },
  {
   "cell_type": "markdown",
   "metadata": {},
   "source": [
    "Write code for converting image to different formats."
   ]
  },
  {
   "cell_type": "code",
   "execution_count": 12,
   "metadata": {},
   "outputs": [
    {
     "name": "stdout",
     "output_type": "stream",
     "text": [
      "Converted download.jpeg to download.png\n",
      "From .jpeg to .png\n"
     ]
    }
   ],
   "source": [
    "import pathlib\n",
    "def image_converter(inputPath,outputPath):\n",
    "    image=Image.open(inputPath)\n",
    "    image.save(outputPath)\n",
    "    original_suffix=pathlib.Path(inputPath).suffix\n",
    "    output_suffix=pathlib.Path(outputPath).suffix\n",
    "    print(f\"Converted {inputPath} to {outputPath}\")\n",
    "    print(f\"From {original_suffix} to {output_suffix}\")\n",
    "\n",
    "image_converter(\"download.jpeg\",\"download.png\")"
   ]
  },
  {
   "cell_type": "code",
   "execution_count": 13,
   "metadata": {},
   "outputs": [
    {
     "name": "stdout",
     "output_type": "stream",
     "text": [
      "Converted gif.gif to gif.png\n",
      "From .gif to .png\n"
     ]
    }
   ],
   "source": [
    "image_converter(\"gif.gif\",\"gif.png\")"
   ]
  },
  {
   "cell_type": "code",
   "execution_count": 14,
   "metadata": {},
   "outputs": [
    {
     "data": {
      "text/plain": [
       "'Compuserve GIF'"
      ]
     },
     "execution_count": 14,
     "metadata": {},
     "output_type": "execute_result"
    }
   ],
   "source": [
    "gif=logo=Image.open(\"Image/gif.gif\")\n",
    "gif.format_description"
   ]
  },
  {
   "cell_type": "markdown",
   "metadata": {},
   "source": [
    "Compressing image"
   ]
  },
  {
   "cell_type": "code",
   "execution_count": 19,
   "metadata": {},
   "outputs": [],
   "source": [
    "image=logo=Image.open(\"Image/download.jpeg\")   \n",
    "image.save(\"Compressed.jpeg\",quality=90,optimize=True)\n"
   ]
  },
  {
   "cell_type": "code",
   "execution_count": 20,
   "metadata": {},
   "outputs": [],
   "source": [
    "image.save(\"HighlyCompressed.jpeg\",quality=60,optimize=True)"
   ]
  },
  {
   "cell_type": "code",
   "execution_count": 21,
   "metadata": {},
   "outputs": [],
   "source": [
    "def image_dpi_resizer(inputPath,outPutPath,dpi):\n",
    "    image=Image.open(inputPath)\n",
    "    image.save(outPutPath,dpi=dpi)\n",
    "    print(f\"Converted {inputPath} to {outPutPath}\")"
   ]
  },
  {
   "cell_type": "code",
   "execution_count": 23,
   "metadata": {},
   "outputs": [
    {
     "name": "stdout",
     "output_type": "stream",
     "text": [
      "Converted download.jpeg to download_300.jpeg\n"
     ]
    }
   ],
   "source": [
    "image_dpi_resizer(\"download.jpeg\",\"download_300.jpeg\",dpi=(15,15))"
   ]
  },
  {
   "cell_type": "code",
   "execution_count": 8,
   "metadata": {},
   "outputs": [],
   "source": [
    "logo=logo=Image.open(\"Image/PrintifyLogobyDesigner.png\")\n",
    "logo.save(\"PrintifyLogobyDesigner_300.png\",quality=20,optimize=True)"
   ]
  }
 ],
 "metadata": {
  "kernelspec": {
   "display_name": "Python 3",
   "language": "python",
   "name": "python3"
  },
  "language_info": {
   "codemirror_mode": {
    "name": "ipython",
    "version": 3
   },
   "file_extension": ".py",
   "mimetype": "text/x-python",
   "name": "python",
   "nbconvert_exporter": "python",
   "pygments_lexer": "ipython3",
   "version": "3.11.2"
  }
 },
 "nbformat": 4,
 "nbformat_minor": 2
}
